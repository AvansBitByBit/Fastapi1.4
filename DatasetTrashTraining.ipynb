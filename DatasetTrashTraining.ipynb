{
 "cells": [
  {
   "cell_type": "code",
   "execution_count": 1,
   "id": "9a13d9d7-c240-46eb-91e4-6a12223e5e6c",
   "metadata": {},
   "outputs": [
    {
     "name": "stdout",
     "output_type": "stream",
     "text": [
      "Requirement already satisfied: fpdf in c:\\users\\jkvan\\anaconda3\\lib\\site-packages (1.7.2)\n",
      "Requirement already satisfied: graphviz in c:\\users\\jkvan\\anaconda3\\lib\\site-packages (0.20.1)\n",
      "Note: you may need to restart the kernel to use updated packages.\n"
     ]
    }
   ],
   "source": [
    "pip install fpdf graphviz"
   ]
  },
  {
   "cell_type": "code",
   "execution_count": null,
   "id": "36a16353-cea0-4708-bb6a-6d538b42d9fb",
   "metadata": {},
   "outputs": [],
   "source": [
    "import pandas as pd\n",
    "import numpy as np\n",
    "from sklearn.model_selection import train_test_split\n",
    "from sklearn.ensemble import RandomForestClassifier\n",
    "from sklearn.metrics import accuracy_score\n",
    "from sklearn.preprocessing import LabelEncoder\n",
    "from sklearn import tree\n",
    "import graphviz\n",
    "from fpdf import FPDF\n",
    "\n",
    "ds = pd.read_csv(\"Dummy_Trash_Pickup_Dataset.csv\")\n",
    "ds['Location'] = ds['Location'].str.replace(r'\\d+', '', regex=True).str.strip()\n",
    "ds['Time'] = pd.to_datetime(ds['Time'])\n",
    "ds['Hour'] = ds['Time'].dt.hour\n",
    "\n",
    "features = ['Hour', 'Temperature']\n",
    "X = ds[features]\n",
    "y = ds['Location']\n",
    "\n",
    "le = LabelEncoder()\n",
    "y = le.fit_transform(y)\n",
    "\n",
    "X_train, X_test, y_train, y_test = train_test_split(X, y, test_size=0.33, random_state=101)\n",
    "rf = RandomForestClassifier(criterion='entropy', n_estimators=200, max_depth=20, random_state=101)\n",
    "rf.fit(X_train, y_train)\n",
    "\n",
    "def plot_tree_classification(model, features, class_names, output_file='random_forest'):  \n",
    "    if isinstance(model, RandomForestClassifier):\n",
    "        pdf = FPDF()\n",
    "        for i, tree_model in enumerate(model.estimators_):\n",
    "            dot_data = tree.export_graphviz(tree_model, out_file=None, \n",
    "                                  feature_names=features,  \n",
    "                                  class_names=class_names,  \n",
    "                                  filled=True, rounded=True,  \n",
    "                                  special_characters=True)  \n",
    "            graph = graphviz.Source(dot_data)  \n",
    "            image_file = f\"{output_file}_tree_{i+1}.png\"\n",
    "            graph.render(filename=image_file, format='png')\n",
    "            pdf.add_page()\n",
    "            pdf.image(image_file + '.png', x=10, y=10, w=180)\n",
    "        pdf_output_file = f\"{output_file}.pdf\"\n",
    "        pdf.output(pdf_output_file)\n",
    "        print(f\"All trees saved in {pdf_output_file}.\")\n",
    "    else:\n",
    "        raise ValueError(\"The model is not a RandomForestClassifier.\")                                \n",
    "    \n",
    "    return graph\n",
    "\n",
    "feature_names = X.columns\n",
    "class_names = np.sort(np.unique(y)).astype(str)\n",
    "plot_tree_classification(rf, feature_names, class_names)\n",
    "\n",
    "def calculate_accuracy(predictions, actuals):\n",
    "    if(len(predictions) != len(actuals)):\n",
    "        raise Exception(\"The amount of predictions did not equal the amount of actuals\")\n",
    "    return (predictions == actuals).sum() / len(actuals)\n",
    "\n",
    "predictionsOnTrainset = rf.predict(X_train)\n",
    "predictionsOnTestset = rf.predict(X_test)\n",
    "\n",
    "accuracyTrain = calculate_accuracy(predictionsOnTrainset, y_train)\n",
    "accuracyTest = calculate_accuracy(predictionsOnTestset, y_test)\n",
    "\n",
    "print(\"Accuracy on training set \" + str(accuracyTrain))\n",
    "print(\"Accuracy on test set \" + str(accuracyTest))"
   ]
  },
  {
   "cell_type": "code",
   "execution_count": null,
   "id": "3870f690-f762-4107-b5b9-cb5944059164",
   "metadata": {},
   "outputs": [],
   "source": []
  }
 ],
 "metadata": {
  "kernelspec": {
   "display_name": "Python 3 (ipykernel)",
   "language": "python",
   "name": "python3"
  },
  "language_info": {
   "codemirror_mode": {
    "name": "ipython",
    "version": 3
   },
   "file_extension": ".py",
   "mimetype": "text/x-python",
   "name": "python",
   "nbconvert_exporter": "python",
   "pygments_lexer": "ipython3",
   "version": "3.12.7"
  }
 },
 "nbformat": 4,
 "nbformat_minor": 5
}
